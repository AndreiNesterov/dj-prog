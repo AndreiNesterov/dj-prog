{
 "cells": [
  {
   "cell_type": "markdown",
   "metadata": {},
   "source": [
    "## Программирование для журналистики данных\n",
    "Магистерская программа [«Журналистика данных»](https://www.google.ru/url?sa=t&rct=j&q=&esrc=s&source=web&cd=1&cad=rja&uact=8&ved=0ahUKEwim7bzM1YnQAhWBXiwKHcY2DXMQFggdMAA&url=https%3A%2F%2Fwww.hse.ru%2Fma%2Fdatajourn%2F&usg=AFQjCNG4iSK2wv3y8LuhNEfWjmP-Qu6sZA&sig2=6NhsKJRk52Evdj871uVSxw), факультет коммуникаций, медиа и дизайна, НИУ ВШЭ, 2016-17 учебный год.\n",
    "\n",
    "- Автор курса: Илья Щуров.\n",
    "- [Страница курса](http://math-info.hse.ru/s16/5)\n",
    "- Этот ноутбук доступен по лицензии [CC BY SA 4.0 Unported](http://creativecommons.org/licenses/by-sa/4.0/). Вы можете использовать его в любых целях при условии указания имени автора, аффилиации и ссылки на страницу курса."
   ]
  },
  {
   "cell_type": "markdown",
   "metadata": {},
   "source": [
    "## Занятие 1\n",
    "\n",
    "Предполагается, что слушатели знакомы с базовыми возможностями Python в объёма курса «Основы программирования» (см. материалы на [странице курса](http://math-info.hse.ru/s16/5)).\n",
    "\n",
    "### План\n",
    "\n",
    "- [`args`](http://nbviewer.jupyter.org/github/ischurov/pythonhse/blob/master/Lecture%204.ipynb#Передача-аргументов) и [`kwargs`](http://nbviewer.jupyter.org/github/ischurov/pythonhse/blob/master/Lecture%206.ipynb#**kwargs);\n",
    "- фильтрация в [list comprehensions](http://nbviewer.jupyter.org/github/ischurov/pythonhse/blob/master/Lecture%205.ipynb#Списковые-включения-(list-comprehensions);\n",
    "- [форматирование строк](http://nbviewer.jupyter.org/github/ischurov/pythonhse/blob/master/Lecture%206.ipynb#Форматирование-строк);\n",
    "- [хитрости с вещественными числами](http://nbviewer.jupyter.org/github/ischurov/pythonhse/blob/master/Lecture%206.ipynb#Хитрости-с-вещественными-числами);\n",
    "- ещё об изменяемых типах данных: `copy` vs `deepcopy`;\n",
    "    - default values и изменяемые типы данных (*);\n",
    "- [множества](http://nbviewer.jupyter.org/github/ischurov/pythonhse/blob/master/Lecture%207.ipynb#Множества);\n",
    "- [работа с файлами](http://nbviewer.jupyter.org/github/ischurov/pythonhse/blob/master/Lecture%207.ipynb#Файловый-ввод-вывод)."
   ]
  },
  {
   "cell_type": "markdown",
   "metadata": {},
   "source": [
    "### Задачи\n",
    "1. Написать функцию `median`, принимающую на вход несколько аргументов и возвращающую их медиану.\n",
    "2. Дан список вещественных чисел: `some_numbers = [1.234, 4.341, 6.12845]`. Вывести их через запятую, округлив до двух десятичных знаков. Должно получиться `1.23, 4.34, 6.13`.\n",
    "3. Написать функцию, которая принимает на вход имя студента и его оценку (целое число) и выводит строчку \n",
    "        Hello, <student>! Your grade is <grade>.\n",
    "4. Функция `print_cheque(clientname, *args)` принимает на вход имя клиента и несколько трехэлементных кортежей вида `(название товара, количество, цена за единицу)` и должна вывести чек. Все числа должны выводиться с двумя значащами цифрами после десятчной точки.  Например, `print_cheque('Alice', ('Oil', 2, 100.11), ('Bread', 0.345, 90), ('Milk', 1, 50.32))` должна вывести\n",
    "        Client name: Alice\n",
    "\n",
    "        Oil x 2.00: 200.22\n",
    "        Bread x 0.34: 31.05\n",
    "        Milk x 1.00: 50.32\n",
    "\n",
    "        Total: 281.59      \n",
    "5. Написать функцию `append_column(table, column, inplace)`, принимающую на вход таблицу в виде списка списков и новую колонку и добавляющую колонку в таблицу. Если `inplace` установлен в `True`, функция должна модифицировать исходную таблицу и ничего не возвращать. Если `inplace` установлен в `False`, функция должна вернуть новую таблицу, а старую не модифицировать. Если `inplace` не задан, считать, что он задан в `False`.\n",
    "6. Написать функцию `add_suffixes(strings, prefix, suffix, inplace)`, принимающую на вход список строк `strings`, строку `prefix` и строку `suffix` и приписывающую к каждой строке из `strings` `prefix` (к началу строки) и `suffix` (к концу). Если `inplace` установлен в `True`, следует модифицировать исходный список `strings` и ничего не возвращать, а если в `False`, то не модифицировать исходный список и вернуть новый список. По умолчанию считать, что `inplace` установлен в `False`.\n",
    "7. В файле `numbers.txt` записаны целые числа: каждое число на новой строке. Найти их сумму."
   ]
  }
 ],
 "metadata": {
  "kernelspec": {
   "display_name": "Python 3",
   "language": "python",
   "name": "python3"
  },
  "language_info": {
   "codemirror_mode": {
    "name": "ipython",
    "version": 3
   },
   "file_extension": ".py",
   "mimetype": "text/x-python",
   "name": "python",
   "nbconvert_exporter": "python",
   "pygments_lexer": "ipython3",
   "version": "3.5.0"
  },
  "toc": {
   "toc_cell": false,
   "toc_number_sections": false,
   "toc_threshold": 6,
   "toc_window_display": false
  }
 },
 "nbformat": 4,
 "nbformat_minor": 0
}
