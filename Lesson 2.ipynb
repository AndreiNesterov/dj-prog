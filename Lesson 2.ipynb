{
 "cells": [
  {
   "cell_type": "markdown",
   "metadata": {},
   "source": [
    "## Программирование для журналистики данных\n",
    "Магистерская программа [«Журналистика данных»](https://www.google.ru/url?sa=t&rct=j&q=&esrc=s&source=web&cd=1&cad=rja&uact=8&ved=0ahUKEwim7bzM1YnQAhWBXiwKHcY2DXMQFggdMAA&url=https%3A%2F%2Fwww.hse.ru%2Fma%2Fdatajourn%2F&usg=AFQjCNG4iSK2wv3y8LuhNEfWjmP-Qu6sZA&sig2=6NhsKJRk52Evdj871uVSxw), факультет коммуникаций, медиа и дизайна, НИУ ВШЭ, 2016-17 учебный год.\n",
    "\n",
    "- Автор курса: Илья Щуров.\n",
    "- [Страница курса](http://math-info.hse.ru/s16/5)\n",
    "- Этот ноутбук доступен по лицензии [CC BY SA 4.0 Unported](http://creativecommons.org/licenses/by-sa/4.0/). Вы можете использовать его в любых целях при условии указания имени автора, аффилиации и ссылки на страницу курса. Все фрагменты кода также распространяются по лицензии MIT."
   ]
  },
  {
   "cell_type": "markdown",
   "metadata": {},
   "source": [
    "## Занятие 2\n",
    "\n",
    "### План\n",
    "#### Успели\n",
    "- Функции как способ структурирования программы.\n",
    "- [`args`](http://nbviewer.jupyter.org/github/ischurov/pythonhse/blob/master/Lecture%204.ipynb#Передача-аргументов) и [`kwargs`](http://nbviewer.jupyter.org/github/ischurov/pythonhse/blob/master/Lecture%206.ipynb#**kwargs);\n",
    "\n",
    "#### Не успели\n",
    "- [хитрости с вещественными числами](http://nbviewer.jupyter.org/github/ischurov/pythonhse/blob/master/Lecture%206.ipynb#Хитрости-с-вещественными-числами);\n",
    "- ещё об изменяемых типах данных: `copy` vs `deepcopy`;\n",
    "    - default values и изменяемые типы данных;\n",
    "- [множества](http://nbviewer.jupyter.org/github/ischurov/pythonhse/blob/master/Lecture%207.ipynb#Множества)."
   ]
  },
  {
   "cell_type": "markdown",
   "metadata": {},
   "source": [
    "### Задачи\n",
    "\n",
    "#### Успели\n",
    "1. В файле [electors.csv](https://github.com/ischurov/dj-prog/blob/master/elections_usa_2016/electors.csv) приведено количество выборщиков, закреплённых за каждым штатом США (по состоянию на 2016 год). В файле [results.csv](https://github.com/ischurov/dj-prog/blob/master/elections_usa_2016/results.csv) приведены искусственные результаты выборов (доля голосов за каждого кандидата по каждому штату). Считая, что все штаты инструктируют всех своих выборщиков голосовать за кандидата, набравшего большинство голосов в штате (строго говоря, это неверно: в Мэне и Небраске более сложные правила), найти победителя выборов.\n",
    "\n",
    "#### Не успели\n",
    "\n",
    "1. Написать функцию `median`, принимающую на вход несколько аргументов и возвращающую их медиану.\n",
    "5. Написать функцию `append_column(table, column, inplace)`, принимающую на вход таблицу в виде списка списков и новую колонку и добавляющую колонку в таблицу. Если `inplace` установлен в `True`, функция должна модифицировать исходную таблицу и ничего не возвращать. Если `inplace` установлен в `False`, функция должна вернуть новую таблицу, а старую не модифицировать. Если `inplace` не задан, считать, что он задан в `False`.\n",
    "6. Написать функцию `add_suffixes(strings, prefix, suffix, inplace)`, принимающую на вход список строк `strings`, строку `prefix` и строку `suffix` и приписывающую к каждой строке из `strings` `prefix` (к началу строки) и `suffix` (к концу). Если `inplace` установлен в `True`, следует модифицировать исходный список `strings` и ничего не возвращать, а если в `False`, то не модифицировать исходный список и вернуть новый список. По умолчанию считать, что `inplace` установлен в `False`."
   ]
  },
  {
   "cell_type": "markdown",
   "metadata": {
    "collapsed": true
   },
   "source": [
    "### Решение задачи про выборы"
   ]
  },
  {
   "cell_type": "markdown",
   "metadata": {},
   "source": [
    "#### Первоначальная версия\n",
    "Предполагается, что мы скачали указанные в условии csv-файлы и положили их в каталог `elections_usa_2016` в текущем каталоге. (Напомним, что выяснить, в каком каталоге мы сейчас находимся, можно с помощью\n",
    "\n",
    "    import os\n",
    "    os.getcwd()"
   ]
  },
  {
   "cell_type": "code",
   "execution_count": 25,
   "metadata": {
    "collapsed": false
   },
   "outputs": [
    {
     "name": "stdout",
     "output_type": "stream",
     "text": [
      "And the winner is... Trump\n"
     ]
    }
   ],
   "source": [
    "electors_file = open(\"elections_usa_2016/electors.csv\")\n",
    "electors_file.readline()\n",
    "# первая строчка содержит данные об именах столбцов, для нашей программы\n",
    "# она не нужна и мы её пропускаем: считываем и никак не используем\n",
    "\n",
    "state_to_electors = {}\n",
    "# нам нужно уметь, зная штат, определять, сколько у него выборщиков\n",
    "# естественный объект для хранения таких данных: словарь, ключами\n",
    "# которого являются названия штатов (они уникальны), а значениями — число\n",
    "# выборщиков\n",
    "\n",
    "for line in electors_file:\n",
    "    # перебор строк в файле начнётся со второй, потому что \n",
    "    # первую мы уже считали\n",
    "    \n",
    "    state, num_of_electors = line.split(',')\n",
    "    state_to_electors[state] = int(num_of_electors)\n",
    "    # в принципе, есть более универсальные методы чтения csv-файлов,\n",
    "    # но мы сейчас используем простой подход, который сработает\n",
    "    # в нашем случае (но не факт, что сработает в других)\n",
    "    \n",
    "    # лучше пользоваться готовыми библиотеками для этого\n",
    "    \n",
    "electors_file.close()\n",
    "\n",
    "# Теперь займёмся файлом с результатами по каждому штату\n",
    "\n",
    "results_file = open(\"elections_usa_2016/results.csv\")\n",
    "header = results_file.readline()\n",
    "# на этот раз нам понадобится сохранить первую строчку\n",
    "# в ней указаны имена кандидатов\n",
    "# если мы хотим написать программу, которая будет работать с разными входными\n",
    "# данными (например, через 4 года), то нужно использовать эту информацию\n",
    "\n",
    "candidates = header.strip().split(',')[1:]\n",
    "# .strip() убирает лишние пробелы и символы перевода строк \n",
    "# из начала и конца строки\n",
    "# дальше мы делим строчку по запятой (.split(','))\n",
    "# получаем список\n",
    "# от этого списка мы берём все элементы, кроме первого ([1:])\n",
    "\n",
    "# теперь мы будем изображать центризбирком\n",
    "# к нам будут приходить данные по каждому штату \n",
    "# мы будем определять, сколько в этом штате победителей\n",
    "# дальше мы узнаем, сколько выборщиков относятся к этому штату\n",
    "# и запишем этих выборщиков на счёт победителя\n",
    "# нам понадобится «табло», в котором будет записано, сколько \n",
    "# выборщиков есть сейчас у каждого кандидата\n",
    "# это табло разумно организовать в виде словаря\n",
    "# инициализируем его нулями\n",
    "\n",
    "sum_of_votes = {candidate:0 for candidate in candidates}\n",
    "\n",
    "# теперь приступим к подсчёту\n",
    "\n",
    "for line in results_file:\n",
    "    row = line.strip().split(',')\n",
    "    state = row[0]\n",
    "    # в первом столбце написано название штата\n",
    "    votes = [float(vote) for vote in row[1:]]\n",
    "    # в остальных столбцах — числа с плавающей точкой, которые\n",
    "    # считались как строки, но нам нужно превратить их именно в числа\n",
    "    # здесь мы используем списковые включения\n",
    "    # мы перебираем элементы списка row[1:], который получается из row\n",
    "    # отрезанием первого элемента\n",
    "    \n",
    "    max_votes = max(votes)\n",
    "    # находим, какую долю голосов набрал победитель\n",
    "    \n",
    "    winner_idx = votes.index(max_votes)\n",
    "    # находим номер столбца, в котором записано имя победителя\n",
    "    # нумерация начинается с нуля\n",
    "    \n",
    "    # теперь нужно найти имя победителя в штате\n",
    "    # на этот случай у нас есть список кандидатов candidates\n",
    "    # они упорядочены ровно так же, как голоса\n",
    "    # поэтому нам нужно просто взять элемент с индексом winner_idx\n",
    "    winner = candidates[winner_idx]\n",
    "    \n",
    "    # теперь нужно понять, сколько выборщиков есть у текущего штата\n",
    "    # информация о том, сколько выборщиков есть у какого штата, хранится\n",
    "    # в словаре state_to_electors\n",
    "    # нам нужно получить значение, соответствующее ключу, равному названию\n",
    "    # текущего штата\n",
    "    # в этом месте многие пытались писать циклы: это неудачное решение\n",
    "    # словари как раз существуют для того, чтобы быстро извлекать из них\n",
    "    # значение по ключу\n",
    "    \n",
    "    sum_of_votes[winner] += state_to_electors[state]\n",
    "    \n",
    "# всё, файл обработан, его можно закрыть\n",
    "\n",
    "electors_file.close()\n",
    "\n",
    "# теперь нужно найти победителя по стране\n",
    "# для этого нужно понять, есть ли кто-то, кто набрал 270 голосов или больше\n",
    "\n",
    "# переберём все записи в sum_of_votes и выберем из них только те,\n",
    "# в которых значение больше или равно 270\n",
    "# от него нам нужно только имя кандидата\n",
    "final_winner = [candidate for candidate, votes in sum_of_votes.items()\n",
    "                                         if votes >= 270]\n",
    "# получающийся список имеет один или ноль элементов (по крайней мере)\n",
    "# если данные по выборщикам соответствуют действительности\n",
    "\n",
    "print(\"And the winner is...\", final_winner[0])"
   ]
  },
  {
   "cell_type": "markdown",
   "metadata": {},
   "source": [
    "Наш код работает, но чтобы сделать понятным, что происходит на каждом шаге, нам пришлось написать кучу комментариев. Вот так выглядел бы этот код без комментариев."
   ]
  },
  {
   "cell_type": "code",
   "execution_count": null,
   "metadata": {
    "collapsed": true
   },
   "outputs": [],
   "source": [
    "electors_file = open(\"elections_usa_2016/electors.csv\")\n",
    "electors_file.readline()\n",
    "state_to_electors = {}\n",
    "for line in electors_file:\n",
    "    state, num_of_electors = line.split(',')\n",
    "    state_to_electors[state] = int(num_of_electors)\n",
    "electors_file.close()\n",
    "\n",
    "results_file = open(\"elections_usa_2016/results.csv\")\n",
    "header = results_file.readline()\n",
    "\n",
    "candidates = header.strip().split(',')[1:]\n",
    "sum_of_votes = {candidate:0 for candidate in candidates}\n",
    "\n",
    "for line in results_file:\n",
    "    row = line.strip().split(',')\n",
    "    state = row[0]\n",
    "    votes = [float(vote) for vote in row[1:]]\n",
    "    max_votes = max(votes)\n",
    "    winner_idx = votes.index(max_votes)\n",
    "    winner = candidates[winner_idx]\n",
    "    sum_of_votes[winner] += state_to_electors[state]\n",
    "electors_file.close()\n",
    "final_winner = [candidate for candidate, votes in sum_of_votes.items()\n",
    "print(\"And the winner is...\", final_winner[0])"
   ]
  },
  {
   "cell_type": "markdown",
   "metadata": {},
   "source": [
    "Готов поспорить, что через неделю вы не сможете быстро сказать, что делает та или иная строчка. Наша программа не структурирована. Один из способов структурировать программы (помимо того, чтобы писать много комментариев, что тоже полезно) — это разбивать решение задачи на отдельные действия и оформлять эти действия функциями.\n",
    "\n",
    "В нашем случае можно выделить такие действия:\n",
    "\n",
    "1. Считать файл со списком выборщиков.\n",
    "2. Считать файл с результатами голосования.\n",
    "3. Для каждого штата, найти, кто победил в этом штате.\n",
    "4. Найти, сколько выборщиков получил каждый кандидат.\n",
    "5. Найти, кто же победил.\n",
    "\n",
    "Каждое из этих действий можно оформить в виде функции. У функций принято писать описание в длинных тройных кавычках. "
   ]
  },
  {
   "cell_type": "code",
   "execution_count": 1,
   "metadata": {
    "collapsed": true
   },
   "outputs": [],
   "source": [
    "# шаг 1\n",
    "def get_electors(electors_csv):\n",
    "    \"\"\"\n",
    "    Reads file electors_csv\n",
    "    Returns dictionary (state -> number of electors)\n",
    "    \"\"\"\n",
    "    file = open(electors_csv)\n",
    "    file.readline()\n",
    "    state_to_electors = {}\n",
    "    for line in file:\n",
    "        state, num_of_electors = line.split(',')\n",
    "        state_to_electors[state] = int(num_of_electors)\n",
    "    file.close()\n",
    "    return state_to_electors"
   ]
  },
  {
   "cell_type": "code",
   "execution_count": null,
   "metadata": {
    "collapsed": true
   },
   "outputs": [],
   "source": [
    "# шаг 2\n",
    "def get_results(results_csv):\n",
    "    \"\"\"\n",
    "    Reads csv file with results\n",
    "    Returns a touple (candidates, results)\n",
    "    candidates is a list of candidate names\n",
    "    results is a table (list of lists),\n",
    "    first row is state name\n",
    "    other rows are vote shares of particular candidate\n",
    "    \"\"\"\n",
    "    file = open(results_csv)\n",
    "    header = file.readline()\n",
    "    candidates = header.strip().split(',')[1:]\n",
    "    table = []\n",
    "    for line in file:\n",
    "        row = line.strip().split(',')\n",
    "        state = row[0]\n",
    "        votes = [float(vote) for vote in row[1:]]\n",
    "        table.append([state] + votes)\n",
    "    file.close()\n",
    "    return candidates, table"
   ]
  },
  {
   "cell_type": "code",
   "execution_count": 2,
   "metadata": {
    "collapsed": true
   },
   "outputs": [],
   "source": [
    "# шаг 3\n",
    "def find_winner(votes):\n",
    "    \"\"\"\n",
    "    votes is a list of vote shares (float numbers)\n",
    "    returns name of a winner\n",
    "    uses global name candidates (list of candidate names)\n",
    "    \"\"\"\n",
    "    max_votes = max(votes)\n",
    "    winner_idx = votes.index(max_votes)\n",
    "    winner = candidates[winner_idx]\n",
    "    return winner"
   ]
  },
  {
   "cell_type": "code",
   "execution_count": 23,
   "metadata": {
    "collapsed": true
   },
   "outputs": [],
   "source": [
    "# шаг 4 сделаем ниже"
   ]
  },
  {
   "cell_type": "code",
   "execution_count": 24,
   "metadata": {
    "collapsed": true
   },
   "outputs": [],
   "source": [
    "# шаг 5\n",
    "def get_final_winner(sum_of_votes):\n",
    "    final_winner = [candidate for candidate, votes \n",
    "                in sum_of_votes.items()\n",
    "                if votes >= 270]\n",
    "    if final_winner:\n",
    "        return final_winner[0]\n",
    "    else:\n",
    "        return None"
   ]
  },
  {
   "cell_type": "markdown",
   "metadata": {},
   "source": [
    "Наконец, соберём всё воедино (этот код тоже можно было бы оформить в виде функции, он соответствует шагу 4)."
   ]
  },
  {
   "cell_type": "code",
   "execution_count": 22,
   "metadata": {
    "collapsed": false
   },
   "outputs": [
    {
     "name": "stdout",
     "output_type": "stream",
     "text": [
      "And the winner is... Trump\n"
     ]
    }
   ],
   "source": [
    "state_to_electors = get_electors(\"elections_usa_2016/electors.csv\")\n",
    "candidates, results = get_results(\"elections_usa_2016/results.csv\")\n",
    "sum_of_votes = {candidate:0 for candidate in candidates}\n",
    "for state_row in results:\n",
    "    winner = find_winner(state_row[1:])\n",
    "    sum_of_votes[winner] += state_to_electors[state_row[0]]    \n",
    "winner = get_final_winner(sum_of_votes)\n",
    "print(\"And the winner is...\", winner)"
   ]
  },
  {
   "cell_type": "markdown",
   "metadata": {},
   "source": [
    "Глядя на эту программу, нам понятно, что делает каждая строчка (в терминах нашей исходной задачи). При необходимости, мы можем углубиться в реализацию конкретных функций, но по крайней мере мы не обязаны это делать, если хотим разобраться в общей структуре программы.\n",
    "\n",
    "Впрочем, у нашего нового подхода есть один недостаток по сравнению с предыдущим: нам приходится считывать всё содержимое файла `results.csv` в память, а в исходном подходе можно было обрабатывать строчку за строчкой. В нашем случае разницы нет, но если бы файл был очень, очень большим (миллионы строк, например), это могло бы создать проблемы."
   ]
  }
 ],
 "metadata": {
  "kernelspec": {
   "display_name": "Python 3",
   "language": "python",
   "name": "python3"
  },
  "language_info": {
   "codemirror_mode": {
    "name": "ipython",
    "version": 3
   },
   "file_extension": ".py",
   "mimetype": "text/x-python",
   "name": "python",
   "nbconvert_exporter": "python",
   "pygments_lexer": "ipython3",
   "version": "3.5.2"
  },
  "toc": {
   "toc_cell": false,
   "toc_number_sections": false,
   "toc_threshold": 6,
   "toc_window_display": false
  }
 },
 "nbformat": 4,
 "nbformat_minor": 0
}
