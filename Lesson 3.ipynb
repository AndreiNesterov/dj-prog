{
 "cells": [
  {
   "cell_type": "markdown",
   "metadata": {},
   "source": [
    "## Программирование для журналистики данных\n",
    "Магистерская программа [«Журналистика данных»](https://www.google.ru/url?sa=t&rct=j&q=&esrc=s&source=web&cd=1&cad=rja&uact=8&ved=0ahUKEwim7bzM1YnQAhWBXiwKHcY2DXMQFggdMAA&url=https%3A%2F%2Fwww.hse.ru%2Fma%2Fdatajourn%2F&usg=AFQjCNG4iSK2wv3y8LuhNEfWjmP-Qu6sZA&sig2=6NhsKJRk52Evdj871uVSxw), факультет коммуникаций, медиа и дизайна, НИУ ВШЭ, 2016-17 учебный год.\n",
    "\n",
    "- Автор курса: Илья Щуров.\n",
    "- [Страница курса](http://math-info.hse.ru/s16/5)\n",
    "- Этот ноутбук доступен по лицензии [CC BY SA 4.0 Unported](http://creativecommons.org/licenses/by-sa/4.0/). Вы можете использовать его в любых целях при условии указания имени автора, аффилиации и ссылки на страницу курса. Все фрагменты кода также распространяются по лицензии [MIT](https://opensource.org/licenses/MIT)."
   ]
  },
  {
   "cell_type": "markdown",
   "metadata": {},
   "source": [
    "## Занятие 3"
   ]
  },
  {
   "cell_type": "markdown",
   "metadata": {},
   "source": [
    "### Исключения\n",
    "\n",
    "Рассмотрим простую задачу: мы хотим ввести с клавиатуры вещественное число, прибавить к нему 1 и вывести результат."
   ]
  },
  {
   "cell_type": "code",
   "execution_count": 1,
   "metadata": {
    "collapsed": false
   },
   "outputs": [
    {
     "name": "stdout",
     "output_type": "stream",
     "text": [
      "12.34\n",
      "13.34\n"
     ]
    }
   ],
   "source": [
    "x = float(input(\"Enter some number: \"))\n",
    "print(x + 1)"
   ]
  },
  {
   "cell_type": "markdown",
   "metadata": {},
   "source": [
    "Если пользователь действительно введёт число, то получит правильный ответ. А если введёт не число, а что-то другое?"
   ]
  },
  {
   "cell_type": "code",
   "execution_count": 2,
   "metadata": {
    "collapsed": false
   },
   "outputs": [
    {
     "name": "stdout",
     "output_type": "stream",
     "text": [
      "asdf\n"
     ]
    },
    {
     "ename": "ValueError",
     "evalue": "could not convert string to float: 'asdf'",
     "output_type": "error",
     "traceback": [
      "\u001b[0;31m---------------------------------------------------------------------------\u001b[0m",
      "\u001b[0;31mValueError\u001b[0m                                Traceback (most recent call last)",
      "\u001b[0;32m<ipython-input-2-fc09e59e6e6f>\u001b[0m in \u001b[0;36m<module>\u001b[0;34m()\u001b[0m\n\u001b[0;32m----> 1\u001b[0;31m \u001b[0mx\u001b[0m \u001b[0;34m=\u001b[0m \u001b[0mfloat\u001b[0m\u001b[0;34m(\u001b[0m\u001b[0minput\u001b[0m\u001b[0;34m(\u001b[0m\u001b[0;34m)\u001b[0m\u001b[0;34m)\u001b[0m\u001b[0;34m\u001b[0m\u001b[0m\n\u001b[0m\u001b[1;32m      2\u001b[0m \u001b[0mprint\u001b[0m\u001b[0;34m(\u001b[0m\u001b[0mx\u001b[0m \u001b[0;34m+\u001b[0m \u001b[0;36m1\u001b[0m\u001b[0;34m)\u001b[0m\u001b[0;34m\u001b[0m\u001b[0m\n",
      "\u001b[0;31mValueError\u001b[0m: could not convert string to float: 'asdf'"
     ]
    }
   ],
   "source": [
    "x = float(input())\n",
    "print(x + 1)"
   ]
  },
  {
   "cell_type": "markdown",
   "metadata": {},
   "source": [
    "Пользователь получает длинное и непонятное сообщение об ошибке. Вообще-то, такие сообщения об ошибках адресованы не пользователю, а программисту. Пользователю хорошо было бы сообщить о том, что он сделал что-то не то, как-то попонятнее. Как это сделать?\n",
    "\n",
    "В принципе, можно было бы сначала ввести строку, потом проверить, записано ли в этой строке вещественное число, и если нет, то выдать ошибку. Наш код мог бы выглядеть как-то так."
   ]
  },
  {
   "cell_type": "markdown",
   "metadata": {},
   "source": [
    "```python\n",
    "s = float(input())\n",
    "if not is_float_number(s):\n",
    "    print(\"Sorry, this is not a number\")\n",
    "else:\n",
    "    x = float(s)\n",
    "    print(x + 1)\n",
    "```"
   ]
  },
  {
   "cell_type": "markdown",
   "metadata": {},
   "source": [
    "Здесь функция `is_float_number(s)` должна проверять, записано ли в строку `s` вещественное число: если да, то она возвращает `True`, а если нет, то `False.\n",
    "\n",
    "Проблема состоит в том, что реализовать функцию `is_float_number()` не так-то легко. Существует очень много способов представлять число с плавающей точкой в виде строки. Например, `12`, `12.34`, `+12.34`, `1e2`, `+1e-2` — это всё корректные способы записать число с плавающей точкой. И мы, возможно, хотим дать пользователю возможность использовать их все.\n",
    "\n",
    "Вместо того, чтобы реализовывать функцию `is_float_number()`, можно действовать по-другому. Можно *попробовать* преобразовать строку в число, а если не получится, то «поймать» ошибку и корректно её обработать. Для этого нужно использовать конструкцию `try-except`:"
   ]
  },
  {
   "cell_type": "code",
   "execution_count": 8,
   "metadata": {
    "collapsed": false
   },
   "outputs": [
    {
     "name": "stdout",
     "output_type": "stream",
     "text": [
      "Enter some number: Hello\n",
      "Sorry, this is not a number\n",
      "Bye\n"
     ]
    }
   ],
   "source": [
    "try:\n",
    "    x = float(input(\"Enter some number: \"))\n",
    "    print(\"The following number is\", x + 1)\n",
    "except ValueError:\n",
    "    print(\"Sorry, this is not a number\")\n",
    "print(\"Bye\")"
   ]
  },
  {
   "cell_type": "markdown",
   "metadata": {},
   "source": [
    "Блок строчек после ключевого слова `try` выполняется в специальном режиме: все ошибки, которые возникнут в ходе выполнения этих команд, могут быть перехвачены и обработаны. Это делается в блоке `except`. Здесь указано, какого типа ошибки (они назыаются *исключениями*) мы перехватываем: в данном случае это `ValueError` — именно такого типа ошибку мы получаем, когда пытаемся сконвертировать строку, не похожую на вещественное число, в вещественное число. Это название указывается в тексте ошибки, когда она выдаётся пользователю:\n",
    "\n",
    "    ValueError: could not convert string to float: 'asdf'\n",
    "    \n",
    "Итак, когда в блоке `try` на строчке `x = float(input(\"Enter some number: \"))` возникает ошибка `ValueError`, выполнение кода в блоке `try` прекращается (до второй строки этого блока мы не дойдём) и мы оказываемся на строке `except`. Дальше мы проверяем, что возникла именно та ошибка, которую мы умеем обрабатывать, и выполняем строчку в блоке `except` — в данном случае выдаём сообщение об ошибке. Дальше блок `except` заканчивается и мы переходим к следующей строке — `print(\"Bye\")` — и выполняем её как ни в чём не бывало. Если бы мы не перехватили исключение, то выполнение программы прекратилось бы сразу и до этой строчки мы не дошли бы."
   ]
  },
  {
   "cell_type": "markdown",
   "metadata": {},
   "source": [
    "### Задача 1\n",
    "\n",
    "> С помощью исключений написать такой код. Пользователь вводит вещественное число `x` и в ответ получает обратное число `1/x`. Если введен ноль, пользователь получает сообщение об ошибке `I can't divide by zero!`. Если введена строка, пользователь получает сообщение об ошибке `This is not a number`.\n",
    "\n",
    "Обработку случая с делением на ноль можно было бы сделать с помощью `if`, но мы хотим также использовать исключения. Для начала выясним, как называется соответствующая ошибка."
   ]
  },
  {
   "cell_type": "code",
   "execution_count": 10,
   "metadata": {
    "collapsed": false
   },
   "outputs": [
    {
     "ename": "ZeroDivisionError",
     "evalue": "division by zero",
     "output_type": "error",
     "traceback": [
      "\u001b[0;31m---------------------------------------------------------------------------\u001b[0m",
      "\u001b[0;31mZeroDivisionError\u001b[0m                         Traceback (most recent call last)",
      "\u001b[0;32m<ipython-input-10-05c9758a9c21>\u001b[0m in \u001b[0;36m<module>\u001b[0;34m()\u001b[0m\n\u001b[0;32m----> 1\u001b[0;31m \u001b[0;36m1\u001b[0m\u001b[0;34m/\u001b[0m\u001b[0;36m0\u001b[0m\u001b[0;34m\u001b[0m\u001b[0m\n\u001b[0m",
      "\u001b[0;31mZeroDivisionError\u001b[0m: division by zero"
     ]
    }
   ],
   "source": [
    "1/0"
   ]
  },
  {
   "cell_type": "markdown",
   "metadata": {},
   "source": [
    "Видно, что она называется `ZeroDivisionError`. Теперь можно написать код."
   ]
  },
  {
   "cell_type": "code",
   "execution_count": 11,
   "metadata": {
    "collapsed": false
   },
   "outputs": [
    {
     "name": "stdout",
     "output_type": "stream",
     "text": [
      "Enter some number: 12\n",
      "The reciprocal is: 0.08333333333333333\n",
      "That's all\n"
     ]
    }
   ],
   "source": [
    "try:\n",
    "    x = float(input(\"Enter some number: \"))\n",
    "    print(\"The reciprocal is:\", 1/x)\n",
    "except ValueError:\n",
    "    print(\"This is not a number.\")\n",
    "except ZeroDivisionError:\n",
    "    print(\"I can't divide by zero!\")\n",
    "print(\"That's all\")"
   ]
  },
  {
   "cell_type": "markdown",
   "metadata": {},
   "source": [
    "У одного и того же блока `try` может быть несколько блоков `except`. Они проверяются по порядку и выполняется тот, который соответствует реально случившейся ошибке. Выполняется ровно один из блоков `except`."
   ]
  },
  {
   "cell_type": "markdown",
   "metadata": {},
   "source": [
    "### Задача 2\n",
    "> Написать программу, которая запрашивает у пользователя имя файла, после этого открывает этот файл и в предположении, что в этом файле записаны вещественные числа (по одному на каждой строчке), находит сумму всех этих чисел. При этом если на какой-то строчке записано на число, а что-то другое, то эту строчку следует пропустить и напечатать сообщение о том, что мы её пропустили, указав, какую именно строчку пропустили. Если этого файла не существует, следует попросить указать другой файл (и добиваться того, чтобы пользователь указал существующий файл, пока не введёт).\n",
    "\n",
    "Для начала создадим какой-нибудь файл."
   ]
  },
  {
   "cell_type": "code",
   "execution_count": 13,
   "metadata": {
    "collapsed": false
   },
   "outputs": [],
   "source": [
    "content = \"\"\"12.2\n",
    "lalala\n",
    "3\n",
    "5.6\n",
    "\n",
    "haha 23.3\n",
    "8\n",
    "\n",
    "\"\"\"\n",
    "f = open(\"testfile.txt\", \"w\")\n",
    "print(content, file=f)\n",
    "f.close()"
   ]
  },
  {
   "cell_type": "markdown",
   "metadata": {},
   "source": [
    "Проверим, что записалось."
   ]
  },
  {
   "cell_type": "code",
   "execution_count": 15,
   "metadata": {
    "collapsed": false
   },
   "outputs": [
    {
     "name": "stdout",
     "output_type": "stream",
     "text": [
      "12.2\n",
      "lalala\n",
      "3\n",
      "5.6\n",
      "\n",
      "haha 23.3\n",
      "8\n",
      "\n",
      "\n"
     ]
    }
   ],
   "source": [
    "f = open(\"testfile.txt\")\n",
    "for s in f:\n",
    "    print(s.rstrip())\n",
    "f.close()"
   ]
  },
  {
   "cell_type": "markdown",
   "metadata": {},
   "source": [
    "Теперь можно решать задачу. Первым действием нам необходимо узнать у пользователя имя файла. Возможно, нам придётся запросить его несколько раз — до тех пор, пока пользователь не введёт имя реально существующего файла. Насколько несговорчивым окажется пользователь, мы заранее не знаем, поэтому не знаем, сколько раз нам придётся переспрашивать. Поэтому нам нужен цикл `while`. Проще всего это сделать так."
   ]
  },
  {
   "cell_type": "code",
   "execution_count": 17,
   "metadata": {
    "collapsed": false
   },
   "outputs": [
    {
     "name": "stdout",
     "output_type": "stream",
     "text": [
      "Enter file name: asd\n",
      "No such file. Try again.\n",
      "Enter file name: testfile.txt\n"
     ]
    }
   ],
   "source": [
    "while True:\n",
    "    filename = input(\"Enter file name: \")\n",
    "    try:\n",
    "        f = open(filename)\n",
    "        break\n",
    "    except FileNotFoundError:\n",
    "        print(\"No such file. Try again.\")"
   ]
  },
  {
   "cell_type": "markdown",
   "metadata": {},
   "source": [
    "Ошибка, которая возникает, когда мы пытаемся открыть файл, называется `FileNotFoundError`. (Чтобы узнать это, можно было попытаться открыть какой-нибудь несуществующий файл и посмотреть, какими словами на нас будет ругаться Python.) Если строчка `f = open(filename)` сработает, то мы попадём на следующую строчку `break` и выйдем из цикла. Если не сработает, то уйдём в `except` и потом вернёмся в начало цикла."
   ]
  },
  {
   "cell_type": "markdown",
   "metadata": {},
   "source": [
    "Теперь, когда файл открыт, можно посчитать сумму числе в нём."
   ]
  },
  {
   "cell_type": "code",
   "execution_count": 18,
   "metadata": {
    "collapsed": false
   },
   "outputs": [
    {
     "name": "stdout",
     "output_type": "stream",
     "text": [
      "String without number skipped: lalala\n",
      "String without number skipped: \n",
      "String without number skipped: haha 23.3\n",
      "String without number skipped: \n",
      "String without number skipped: \n",
      "28.799999999999997\n"
     ]
    }
   ],
   "source": [
    "summa = 0\n",
    "for line in f:\n",
    "    try:\n",
    "        number = float(line)\n",
    "        summa += number\n",
    "    except ValueError:\n",
    "        print(\"String without number skipped: \" + line.rstrip())\n",
    "f.close()\n",
    "print(summa)"
   ]
  },
  {
   "cell_type": "markdown",
   "metadata": {},
   "source": [
    "### `finally`\n",
    "\n",
    "Есть ещё одно применение обработки исключений. Иногда бывает, что нам нужно совершить какое-то действие «во что бы то ни стало». Например, если файл был открыт с помощью функции `open()`, то его хорошо бы закрыть. Если в процессе обработки файла произошла какая-нибудь ошибка, мы можем не добраться до строчки, в которой файл закрывается. Рассмотрим, например, такой код. Он должен открыть файл, запросить у ползователя число, и записать в файл число на 1 больше введенного.\n",
    "\n",
    "```python\n",
    "    f = open(\"filename.txt\", \"w\")\n",
    "    print(\"Let us begin!\", file=f)\n",
    "    number = int(input(\"Enter some number: \"))\n",
    "    print(number + 1, file=f)\n",
    "    f.close()\n",
    "```\n",
    "\n",
    "Если пользователь ввёл строку, не являющуюся числом, то программа не дойдёт до строчки `f.close()` и файл останется не закрытым. Это можно привести к проблемам: например, строка `Les ut begin!` скорее всего даже не запишется в файл, несмотря на то, что первый `print` будет выполнен. (Это связано с некоторыми особенностями работы операционных систем, которых мы сейчас не будем касаться.) Конечно, мы могли бы обработать исключение, которое может возникнуть в фрагменте кода между открытием и закрытием файла, но зачастую мы не можем обработать *все возможные* исключения: обязательно произойдёт что-то непредвиденное.\n",
    "\n",
    "Чтобы решить эту проблему, придумали инструкцию `final`."
   ]
  },
  {
   "cell_type": "code",
   "execution_count": 20,
   "metadata": {
    "collapsed": false
   },
   "outputs": [
    {
     "name": "stdout",
     "output_type": "stream",
     "text": [
      "Enter some number: asdfasf\n",
      "Something went wrong. Let us clean up.\n",
      "File is closed.\n"
     ]
    },
    {
     "ename": "ValueError",
     "evalue": "invalid literal for int() with base 10: 'asdfasf'",
     "output_type": "error",
     "traceback": [
      "\u001b[0;31m---------------------------------------------------------------------------\u001b[0m",
      "\u001b[0;31mValueError\u001b[0m                                Traceback (most recent call last)",
      "\u001b[0;32m<ipython-input-20-b00cd9d8d7a4>\u001b[0m in \u001b[0;36m<module>\u001b[0;34m()\u001b[0m\n\u001b[1;32m      2\u001b[0m \u001b[0;32mtry\u001b[0m\u001b[0;34m:\u001b[0m\u001b[0;34m\u001b[0m\u001b[0m\n\u001b[1;32m      3\u001b[0m     \u001b[0mprint\u001b[0m\u001b[0;34m(\u001b[0m\u001b[0;34m\"Let us begin!\"\u001b[0m\u001b[0;34m,\u001b[0m \u001b[0mfile\u001b[0m\u001b[0;34m=\u001b[0m\u001b[0mf\u001b[0m\u001b[0;34m)\u001b[0m\u001b[0;34m\u001b[0m\u001b[0m\n\u001b[0;32m----> 4\u001b[0;31m     \u001b[0mnumber\u001b[0m \u001b[0;34m=\u001b[0m \u001b[0mint\u001b[0m\u001b[0;34m(\u001b[0m\u001b[0minput\u001b[0m\u001b[0;34m(\u001b[0m\u001b[0;34m\"Enter some number: \"\u001b[0m\u001b[0;34m)\u001b[0m\u001b[0;34m)\u001b[0m\u001b[0;34m\u001b[0m\u001b[0m\n\u001b[0m\u001b[1;32m      5\u001b[0m     \u001b[0mprint\u001b[0m\u001b[0;34m(\u001b[0m\u001b[0mnumber\u001b[0m \u001b[0;34m+\u001b[0m \u001b[0;36m1\u001b[0m\u001b[0;34m,\u001b[0m \u001b[0mfile\u001b[0m\u001b[0;34m=\u001b[0m\u001b[0mf\u001b[0m\u001b[0;34m)\u001b[0m\u001b[0;34m\u001b[0m\u001b[0m\n\u001b[1;32m      6\u001b[0m     \u001b[0mprint\u001b[0m\u001b[0;34m(\u001b[0m\u001b[0;34m\"Okay, I did it!\"\u001b[0m\u001b[0;34m)\u001b[0m\u001b[0;34m\u001b[0m\u001b[0m\n",
      "\u001b[0;31mValueError\u001b[0m: invalid literal for int() with base 10: 'asdfasf'"
     ]
    }
   ],
   "source": [
    "f = open(\"filename.txt\", \"w\")\n",
    "try:\n",
    "    print(\"Let us begin!\", file=f)\n",
    "    number = int(input(\"Enter some number: \"))\n",
    "    print(number + 1, file=f)\n",
    "    print(\"Okay, I did it!\")\n",
    "finally:\n",
    "    print(\"Something went wrong. Let us clean up.\")\n",
    "    f.close()\n",
    "    print(\"File is closed.\")"
   ]
  },
  {
   "cell_type": "markdown",
   "metadata": {},
   "source": [
    "Как видим, в этом случае ошибка обработки пользовательского ввода, хоть и не была «поймана» с помощью `except`, не помешала нам закрыть файл.\n",
    "\n",
    "Впрочем, конкретно для открытия-закрытия файлов есть более простой подход, реализующий примерно такую же логику, как описано. Он основан на использовании ключевого слова `with`:"
   ]
  },
  {
   "cell_type": "code",
   "execution_count": 23,
   "metadata": {
    "collapsed": false
   },
   "outputs": [
    {
     "name": "stdout",
     "output_type": "stream",
     "text": [
      "Let us begin!\n",
      "Is file closed? False\n",
      "Out of with\n",
      "Is file closed? True\n"
     ]
    }
   ],
   "source": [
    "# f = open(\"filename.txt)\n",
    "with open(\"filename.txt\") as f:\n",
    "    for line in f:\n",
    "        print(line.rstrip())\n",
    "    print(\"Is file closed?\", f.closed)\n",
    "print(\"Out of with\")\n",
    "print(\"Is file closed?\", f.closed)"
   ]
  },
  {
   "cell_type": "markdown",
   "metadata": {},
   "source": [
    "### Объектно-ориентированное программирование\n",
    "Простейший пример класса."
   ]
  },
  {
   "cell_type": "code",
   "execution_count": 11,
   "metadata": {
    "collapsed": true
   },
   "outputs": [],
   "source": [
    "class Student(object):\n",
    "    def __init__(self, name):\n",
    "        self.name = name\n",
    "        self.grades = []\n",
    "    def get_average_grade(self):\n",
    "        return sum(self.grades)/len(self.grades)\n",
    "    def add_grade(self, grade):\n",
    "        self.grades.append(grade)"
   ]
  },
  {
   "cell_type": "code",
   "execution_count": 23,
   "metadata": {
    "collapsed": false
   },
   "outputs": [
    {
     "data": {
      "text/plain": [
       "'Ivan'"
      ]
     },
     "execution_count": 23,
     "metadata": {},
     "output_type": "execute_result"
    }
   ],
   "source": [
    "Ivan = Student(\"Ivan\")\n",
    "Ivan.name"
   ]
  },
  {
   "cell_type": "code",
   "execution_count": 24,
   "metadata": {
    "collapsed": true
   },
   "outputs": [],
   "source": [
    "Ivan.add_grade(3)"
   ]
  },
  {
   "cell_type": "code",
   "execution_count": 25,
   "metadata": {
    "collapsed": false
   },
   "outputs": [
    {
     "data": {
      "text/plain": [
       "[3]"
      ]
     },
     "execution_count": 25,
     "metadata": {},
     "output_type": "execute_result"
    }
   ],
   "source": [
    "Ivan.grades"
   ]
  },
  {
   "cell_type": "code",
   "execution_count": 26,
   "metadata": {
    "collapsed": true
   },
   "outputs": [],
   "source": [
    "Ivan.add_grade(10)"
   ]
  },
  {
   "cell_type": "code",
   "execution_count": 27,
   "metadata": {
    "collapsed": false
   },
   "outputs": [
    {
     "data": {
      "text/plain": [
       "6.5"
      ]
     },
     "execution_count": 27,
     "metadata": {},
     "output_type": "execute_result"
    }
   ],
   "source": [
    "Ivan.get_average_grade()"
   ]
  },
  {
   "cell_type": "markdown",
   "metadata": {},
   "source": [
    "### Задача\n",
    "\n",
    "1. Модифицировать класс `Student`, сделав так, чтобы у студента были отдельные имя и фамилия.\n",
    "2. Добавить метод `has_tails()`, проверяющий, есть ли у студента академические задолженности (то есть оценки ниже 3).\n",
    "3. (*) Добавить атрибут `partner`, указывающий на супруга студента. Если у студента нет супруга, инициализировать в `None`. Добавить метод `set_partner`, принимающий на вход другой объект класса `Student` и устанавшивающий своё свойство `partner` в этот объект и одновременно свойство `partner` этого объекта в себя."
   ]
  },
  {
   "cell_type": "code",
   "execution_count": 2,
   "metadata": {
    "collapsed": true
   },
   "outputs": [],
   "source": [
    "class Student(object):\n",
    "    def __init__(self, firstname, lastname):\n",
    "        self.firstname = firstname\n",
    "        self.lastname = lastname\n",
    "        self.grades = []\n",
    "        self.partner = None\n",
    "    def get_average_grade(self):\n",
    "        return sum(self.grades)/len(self.grades)\n",
    "    def add_grade(self, grade):\n",
    "        self.grades.append(grade)\n",
    "    def has_tails(self):\n",
    "        return min(self.grades) < 3\n",
    "    def set_partner(self, partner):\n",
    "        if self.partner is not None:\n",
    "            self.remove_partner()\n",
    "        if partner.partner is not None:\n",
    "            partner.remove_partner()\n",
    "        self.partner = partner\n",
    "        partner.partner = self\n",
    "    def remove_partner(self):\n",
    "        my_ex = self.partner\n",
    "        self.partner = None\n",
    "        my_ex.partner = None"
   ]
  },
  {
   "cell_type": "code",
   "execution_count": 3,
   "metadata": {
    "collapsed": false
   },
   "outputs": [],
   "source": [
    "Mary = Student(\"Mary\", \"Smith\")\n",
    "Dan = Student(\"Dan\", \"McClaud\")"
   ]
  },
  {
   "cell_type": "code",
   "execution_count": 4,
   "metadata": {
    "collapsed": false
   },
   "outputs": [
    {
     "name": "stdout",
     "output_type": "stream",
     "text": [
      "None\n"
     ]
    }
   ],
   "source": [
    "print(Mary.partner)"
   ]
  },
  {
   "cell_type": "code",
   "execution_count": 5,
   "metadata": {
    "collapsed": true
   },
   "outputs": [],
   "source": [
    "Mary.set_partner(Dan)"
   ]
  },
  {
   "cell_type": "code",
   "execution_count": 6,
   "metadata": {
    "collapsed": false
   },
   "outputs": [
    {
     "data": {
      "text/plain": [
       "'Dan'"
      ]
     },
     "execution_count": 6,
     "metadata": {},
     "output_type": "execute_result"
    }
   ],
   "source": [
    "Mary.partner.firstname"
   ]
  },
  {
   "cell_type": "code",
   "execution_count": 7,
   "metadata": {
    "collapsed": false
   },
   "outputs": [
    {
     "data": {
      "text/plain": [
       "<__main__.Student at 0x10d1bf1d0>"
      ]
     },
     "execution_count": 7,
     "metadata": {},
     "output_type": "execute_result"
    }
   ],
   "source": [
    "Dan.partner"
   ]
  },
  {
   "cell_type": "code",
   "execution_count": 8,
   "metadata": {
    "collapsed": false
   },
   "outputs": [
    {
     "data": {
      "text/plain": [
       "'Mary'"
      ]
     },
     "execution_count": 8,
     "metadata": {},
     "output_type": "execute_result"
    }
   ],
   "source": [
    "Mary.partner.partner.partner.partner.firstname"
   ]
  },
  {
   "cell_type": "code",
   "execution_count": 9,
   "metadata": {
    "collapsed": false
   },
   "outputs": [],
   "source": [
    "Ivan = Student(\"Ivan\", \"Ivanov\")"
   ]
  },
  {
   "cell_type": "code",
   "execution_count": 12,
   "metadata": {
    "collapsed": true
   },
   "outputs": [],
   "source": [
    "Ivan.add_grade(2)"
   ]
  },
  {
   "cell_type": "code",
   "execution_count": 13,
   "metadata": {
    "collapsed": false
   },
   "outputs": [
    {
     "name": "stdout",
     "output_type": "stream",
     "text": [
      "Let us call Ivan's parents\n"
     ]
    }
   ],
   "source": [
    "if Ivan.has_tails():\n",
    "    print(\"Let us call Ivan's parents\")"
   ]
  },
  {
   "cell_type": "code",
   "execution_count": 14,
   "metadata": {
    "collapsed": false
   },
   "outputs": [],
   "source": [
    "Mary = Student(\"Mary Ann\")\n",
    "Christian = Student(\"Christian\")\n",
    "yyy = Student(\"Somebody\")"
   ]
  },
  {
   "cell_type": "code",
   "execution_count": 17,
   "metadata": {
    "collapsed": true
   },
   "outputs": [],
   "source": [
    "Mary.add_grade(10)"
   ]
  },
  {
   "cell_type": "code",
   "execution_count": 18,
   "metadata": {
    "collapsed": false
   },
   "outputs": [
    {
     "data": {
      "text/plain": [
       "6.0"
      ]
     },
     "execution_count": 18,
     "metadata": {},
     "output_type": "execute_result"
    }
   ],
   "source": [
    "Mary.get_average_grade()"
   ]
  },
  {
   "cell_type": "code",
   "execution_count": 20,
   "metadata": {
    "collapsed": false
   },
   "outputs": [
    {
     "name": "stdout",
     "output_type": "stream",
     "text": [
      "4.857142857142857\n"
     ]
    }
   ],
   "source": [
    "Mary.add_grade(5)\n",
    "Mary.add_grade(3)\n",
    "print(Mary.get_average_grade())"
   ]
  },
  {
   "cell_type": "code",
   "execution_count": 21,
   "metadata": {
    "collapsed": false
   },
   "outputs": [
    {
     "data": {
      "text/plain": [
       "'Somebody'"
      ]
     },
     "execution_count": 21,
     "metadata": {},
     "output_type": "execute_result"
    }
   ],
   "source": [
    "yyy.name"
   ]
  }
 ],
 "metadata": {
  "anaconda-cloud": {},
  "kernelspec": {
   "display_name": "Python 3",
   "language": "python",
   "name": "python3"
  },
  "language_info": {
   "codemirror_mode": {
    "name": "ipython",
    "version": 3
   },
   "file_extension": ".py",
   "mimetype": "text/x-python",
   "name": "python",
   "nbconvert_exporter": "python",
   "pygments_lexer": "ipython3",
   "version": "3.5.2"
  }
 },
 "nbformat": 4,
 "nbformat_minor": 0
}
